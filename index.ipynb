{
 "cells": [
  {
   "cell_type": "code",
   "execution_count": 3,
   "metadata": {},
   "outputs": [],
   "source": [
    "import numpy as np\n",
    "import pandas as pd\n",
    "import json\n",
    "from elasticsearch import Elasticsearch"
   ]
  },
  {
   "attachments": {},
   "cell_type": "markdown",
   "metadata": {},
   "source": [
    "## Create index by Elasticsearch ##"
   ]
  },
  {
   "attachments": {},
   "cell_type": "markdown",
   "metadata": {},
   "source": [
    "### Create indexes for text ###"
   ]
  },
  {
   "cell_type": "code",
   "execution_count": 4,
   "metadata": {},
   "outputs": [
    {
     "name": "stderr",
     "output_type": "stream",
     "text": [
      "/tmp/ipykernel_2858536/1579493722.py:37: DeprecationWarning: The 'body' parameter is deprecated and will be removed in a future version. Instead use individual parameters.\n",
      "  es.indices.create(index=index_name, body=settings)\n"
     ]
    },
    {
     "data": {
      "text/plain": [
       "ObjectApiResponse({'acknowledged': True, 'shards_acknowledged': True, 'index': 'text_infex'})"
      ]
     },
     "execution_count": 4,
     "metadata": {},
     "output_type": "execute_result"
    }
   ],
   "source": [
    "# Define Elasticsearch instance\n",
    "\n",
    "es = Elasticsearch(['https://localhost:9201'], basic_auth=('elastic', 'wfRM-cEYuJW0Cxo0nF_z'), verify_certs=False, ssl_show_warn=False)\n",
    "index_name = 'text_infex'\n",
    "\n",
    "settings = {\n",
    "    \"settings\": {\n",
    "        \"number_of_shards\": 1,\n",
    "        \"number_of_replicas\": 0,\n",
    "        \"analysis\": {\n",
    "            \"analyzer\": {\n",
    "                \"ngram_analyzer\": {\n",
    "                    \"type\": \"custom\",\n",
    "                    \"tokenizer\": \"ngram_tokenizer\"\n",
    "                }\n",
    "            },\n",
    "            \"tokenizer\": {\n",
    "                \"ngram_tokenizer\": {\n",
    "                    \"type\": \"ngram\",\n",
    "                    \"min_gram\": 5,\n",
    "                    \"max_gram\": 5\n",
    "                }\n",
    "            },\n",
    "            \"filter\": [\"lowercase\", \"stop\"]\n",
    "        }\n",
    "    },\n",
    "    \"mappings\": {\n",
    "        'properties': {\n",
    "            'text': {'type': 'text', \"analyzer\": \"ngram_analyzer\"}\n",
    "        }\n",
    "    }\n",
    "}\n",
    "\n",
    "\n",
    "# delete previous index\n",
    "# response = es.indices.delete(index=index_name)\n",
    "es.indices.create(index=index_name, body=settings)"
   ]
  },
  {
   "cell_type": "code",
   "execution_count": null,
   "metadata": {},
   "outputs": [],
   "source": [
    "import jsonlines\n",
    "folder = './data/missing_value_imputation/'\n",
    "wiki_pages = []\n",
    "with jsonlines.open(folder+'wikipages.jsonl') as reader:\n",
    "    for obj in reader:\n",
    "        wiki_pages.append(obj)\n",
    "\n",
    "doc_id = 0\n",
    "fout = jsonlines.open('doc_ids.jsonl','w')\n",
    "for i in range(len(wiki_pages)):\n",
    "    entity_info = wiki_pages[i]\n",
    "    entity_name = entity_info['entity']\n",
    "    text = entity_info['text']\n",
    "    doc = {\n",
    "        \"doc id\": doc_id,\n",
    "        \"text\": entity_name + ': ' + text\n",
    "    }\n",
    "    doc_id += 1\n",
    "    es.index(index=index_name, document=doc)\n",
    "\n",
    "fout.close()\n",
    "print('done')\n",
    "print(doc_id)"
   ]
  },
  {
   "attachments": {},
   "cell_type": "markdown",
   "metadata": {},
   "source": [
    "### Create indexes for tuples ###"
   ]
  },
  {
   "cell_type": "code",
   "execution_count": null,
   "metadata": {},
   "outputs": [],
   "source": [
    "# Define Elasticsearch instance\n",
    "index_name = 'tuple_index'\n",
    "\n",
    "settings = {\n",
    "    \"settings\": {\n",
    "        \"number_of_shards\": 1,\n",
    "        \"number_of_replicas\": 0,\n",
    "        \"analysis\": {\n",
    "            \"analyzer\": {\n",
    "                \"ngram_analyzer\": {\n",
    "                    \"type\": \"custom\",\n",
    "                    \"tokenizer\": \"ngram_tokenizer\"\n",
    "                }\n",
    "            },\n",
    "            \"tokenizer\": {\n",
    "                \"ngram_tokenizer\": {\n",
    "                    \"type\": \"ngram\",\n",
    "                    \"min_gram\": 5,\n",
    "                    \"max_gram\": 5\n",
    "                }\n",
    "            },\n",
    "            \"filter\": [\"lowercase\", \"stop\"]\n",
    "        }\n",
    "    },\n",
    "    \"mappings\": {\n",
    "        'properties': {\n",
    "            'tuple': {'type': 'text', \"analyzer\": \"ngram_analyzer\"}\n",
    "        }\n",
    "    }\n",
    "}\n",
    "\n",
    "\n",
    "# delete previous index\n",
    "# response = es.indices.delete(index=index_name)\n",
    "es.indices.create(index=index_name, body=settings)"
   ]
  },
  {
   "cell_type": "code",
   "execution_count": null,
   "metadata": {},
   "outputs": [],
   "source": [
    "global tuple_id\n",
    "tuple_id = 0\n",
    "\n",
    "for folder in ['./data/missing_value_imputation/', './data/tabfact/']:\n",
    "    table_to_page = json.load(open(folder+'table_to_page.json'))\n",
    "    with open( folder + 'all_csv_ids.json', 'r') as f:\n",
    "        csv_files = json.load(f)\n",
    "\n",
    "    for csv_file in csv_files:\n",
    "        df = pd.read_csv(folder + 'all_csv/' + csv_file, header=0, delimiter='#')\n",
    "        if csv_file in table_to_page:\n",
    "            caption = table_to_page[csv_file][0]\n",
    "        else:\n",
    "            caption = \"\"\n",
    "        headers = df.columns\n",
    "\n",
    "        for i, row in df.iterrows():\n",
    "            tuple_string = caption + ' | '\n",
    "            for j in range(len(row)):\n",
    "                tuple_string += ' attribute ' + str(headers[j])  + ' value ' + str(row[j])\n",
    "\n",
    "                doc = {\n",
    "                \"tuple id\": tuple_id,\n",
    "                \"tuple\": tuple_string\n",
    "            }\n",
    "\n",
    "            tuple_id += 1\n",
    "\n",
    "    print(tuple_id)"
   ]
  },
  {
   "attachments": {},
   "cell_type": "markdown",
   "metadata": {},
   "source": [
    "### Create indexes for tables ###"
   ]
  },
  {
   "cell_type": "code",
   "execution_count": 5,
   "metadata": {},
   "outputs": [
    {
     "name": "stderr",
     "output_type": "stream",
     "text": [
      "/tmp/ipykernel_2858536/3842955694.py:35: DeprecationWarning: The 'body' parameter is deprecated and will be removed in a future version. Instead use individual parameters.\n",
      "  es.indices.create(index=index_name, body=settings)\n"
     ]
    },
    {
     "data": {
      "text/plain": [
       "ObjectApiResponse({'acknowledged': True, 'shards_acknowledged': True, 'index': 'table_index_v3'})"
      ]
     },
     "execution_count": 5,
     "metadata": {},
     "output_type": "execute_result"
    }
   ],
   "source": [
    "# Define Elasticsearch instance\n",
    "index_name = 'table_index_v3'\n",
    "\n",
    "settings = {\n",
    "    \"settings\": {\n",
    "        \"number_of_shards\": 1,\n",
    "        \"number_of_replicas\": 0,\n",
    "        \"analysis\": {\n",
    "            \"analyzer\": {\n",
    "                \"ngram_analyzer\": {\n",
    "                    \"type\": \"custom\",\n",
    "                    \"tokenizer\": \"ngram_tokenizer\"\n",
    "                }\n",
    "            },\n",
    "            \"tokenizer\": {\n",
    "                \"ngram_tokenizer\": {\n",
    "                    \"type\": \"ngram\",\n",
    "                    \"min_gram\": 5,\n",
    "                    \"max_gram\": 5\n",
    "                }\n",
    "            },\n",
    "            \"filter\": [\"lowercase\", \"stop\"]\n",
    "        }\n",
    "    },\n",
    "    \"mappings\": {\n",
    "        'properties': {\n",
    "            'table': {'type': 'text', \"analyzer\": \"ngram_analyzer\"}\n",
    "        }\n",
    "    }\n",
    "}\n",
    "\n",
    "\n",
    "# delete previous index\n",
    "response = es.indices.delete(index=index_name)\n",
    "es.indices.create(index=index_name, body=settings)"
   ]
  },
  {
   "cell_type": "code",
   "execution_count": 6,
   "metadata": {},
   "outputs": [
    {
     "name": "stdout",
     "output_type": "stream",
     "text": [
      "2925\n",
      "19498\n"
     ]
    }
   ],
   "source": [
    "global table_id\n",
    "table_id = 0\n",
    "\n",
    "for folder in ['./data/missing_value_imputation/', './data/tabfact/']:\n",
    "    table_to_page = json.load(open(folder+'table_to_page.json'))\n",
    "    folder += 'all_csv/'\n",
    "    # 文件夹下面所有的文件\n",
    "    csv_files = os.listdir(folder)\n",
    "\n",
    "    for csv_file in csv_files:\n",
    "        if 'missing_value_imputation' in folder:\n",
    "            df = pd.read_csv(folder+csv_file, encoding='utf-8')\n",
    "        else:\n",
    "            df = pd.read_csv(folder+csv_file, header=0, delimiter='#')\n",
    "        columns = df.columns.tolist()\n",
    "        # 读取csv文件中的数据\n",
    "        data = df.values.tolist()\n",
    "        # 将list拼接为string\n",
    "        table_string = ''\n",
    "        if csv_file in table_to_page:\n",
    "            table_name = table_to_page[csv_file][0]\n",
    "        else:\n",
    "            table_name = ''\n",
    "\n",
    "        for caption in table_name:\n",
    "            table_string += caption + '  '\n",
    "        table_string = table_string[:-2] + '| '\n",
    "        for attr in columns:\n",
    "            table_string += attr + ' | '\n",
    "        for i, row in df.iterrows():\n",
    "            table_string += 'row | '\n",
    "            for val in row:\n",
    "                val = str(val).replace('_', ' ')\n",
    "                table_string += str(val) + ' | '\n",
    "            table_string = table_string\n",
    "      \n",
    "        doc = {\n",
    "            \"table id\": csv_file.split('.')[0],\n",
    "            \"table\": table_string,\n",
    "        }\n",
    "        table_id += 1\n",
    "        try:\n",
    "            es.index(index=index_name, document=doc)\n",
    "        except:\n",
    "            print(doc)\n",
    "            exit(0)\n",
    "    print(table_id)"
   ]
  }
 ],
 "metadata": {
  "kernelspec": {
   "display_name": "base",
   "language": "python",
   "name": "python3"
  },
  "language_info": {
   "codemirror_mode": {
    "name": "ipython",
    "version": 3
   },
   "file_extension": ".py",
   "mimetype": "text/x-python",
   "name": "python",
   "nbconvert_exporter": "python",
   "pygments_lexer": "ipython3",
   "version": "3.8.5"
  },
  "orig_nbformat": 4,
  "vscode": {
   "interpreter": {
    "hash": "1a6034fbc722b6d7df1bd62739a350770940d75efab2ced85ec2c69a61656d2d"
   }
  }
 },
 "nbformat": 4,
 "nbformat_minor": 2
}
